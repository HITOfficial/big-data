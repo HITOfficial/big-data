{
 "cells": [
  {
   "cell_type": "code",
   "execution_count": 2,
   "metadata": {
    "ExecuteTime": {
     "end_time": "2023-11-23T22:24:47.380028Z",
     "start_time": "2023-11-23T22:24:45.489084Z"
    },
    "collapsed": false,
    "jupyter": {
     "outputs_hidden": false
    }
   },
   "outputs": [
    {
     "name": "stdout",
     "output_type": "stream",
     "text": [
      "Welcome to\n",
      "      ____              __\n",
      "     / __/__  ___ _____/ /__\n",
      "    _\\ \\/ _ \\/ _ `/ __/  '_/\n",
      "   /__ / .__/\\_,_/_/ /_/\\_\\   version 3.5.0\n",
      "      /_/\n",
      "\n",
      "Using Python version 3.11.6 (main, Oct  3 2023 11:57:02)\n",
      "Spark context Web UI available at http://a631c2750154:4040\n",
      "Spark context available as 'sc' (master = local[*], app id = local-1736459713269).\n",
      "SparkSession available as 'spark'.\n"
     ]
    }
   ],
   "source": [
    "import os\n",
    "from pyspark.sql import DataFrame\n",
    "from graphframes import GraphFrame\n",
    "from pyspark.shell import spark\n",
    "import pyspark.sql.functions as F\n",
    "import matplotlib.pyplot as plt"
   ]
  },
  {
   "cell_type": "markdown",
   "metadata": {
    "collapsed": false,
    "jupyter": {
     "outputs_hidden": false
    }
   },
   "source": [
    "### 1\n",
    "Load the Facebook graph, edges from the musae_facebook_edges.csv file, page_name and page_type attributes from the musae_facebook_target.csv file.  Count the number of edges and vertices. (1 p.)"
   ]
  },
  {
   "cell_type": "code",
   "execution_count": 3,
   "metadata": {},
   "outputs": [
    {
     "data": {
      "text/plain": [
       "DataFrame[id_1: string, id_2: string]"
      ]
     },
     "metadata": {},
     "output_type": "display_data"
    }
   ],
   "source": [
    "file_location_edges = \"facebook_large/musae_facebook_edges.csv\"\n",
    "file_type = \"csv\"\n",
    "\n",
    "# CSV options\n",
    "infer_schema = \"false\"\n",
    "first_row_is_header = \"true\"\n",
    "delimiter = \",\"\n",
    "\n",
    "edges = spark.read.format(file_type) \\\n",
    "    .option(\"inferSchema\", infer_schema) \\\n",
    "    .option(\"header\", first_row_is_header) \\\n",
    "    .option(\"sep\", delimiter) \\\n",
    "    .load(file_location_edges)\n",
    "\n",
    "display(edges)"
   ]
  },
  {
   "cell_type": "code",
   "execution_count": 4,
   "metadata": {},
   "outputs": [
    {
     "data": {
      "text/plain": [
       "DataFrame[id: string, page_name: string, page_type: string]"
      ]
     },
     "metadata": {},
     "output_type": "display_data"
    }
   ],
   "source": [
    "file_location_target = \"facebook_large/musae_facebook_target.csv\"\n",
    "file_type = \"csv\"\n",
    "\n",
    "# CSV options\n",
    "infer_schema = \"false\"\n",
    "first_row_is_header = \"true\"\n",
    "delimiter = \",\"\n",
    "\n",
    "vertices = spark.read.format(file_type) \\\n",
    "    .option(\"inferSchema\", infer_schema) \\\n",
    "    .option(\"header\", first_row_is_header) \\\n",
    "    .option(\"sep\", delimiter) \\\n",
    "    .load(file_location_target)\\\n",
    "    .select(\"id\", \"page_name\", \"page_type\") # page_name, page_type\n",
    "\n",
    "display(vertices)"
   ]
  },
  {
   "cell_type": "code",
   "execution_count": 5,
   "metadata": {},
   "outputs": [],
   "source": [
    "sc = spark.builder.appName(\"FacebookGraph\").getOrCreate()"
   ]
  },
  {
   "cell_type": "code",
   "execution_count": 6,
   "metadata": {},
   "outputs": [],
   "source": [
    "edges = edges.withColumnRenamed(\"id_1\", \"src\").withColumnRenamed(\"id_2\", \"dst\")"
   ]
  },
  {
   "cell_type": "code",
   "execution_count": 7,
   "metadata": {},
   "outputs": [],
   "source": [
    "graph = GraphFrame(vertices, edges)"
   ]
  },
  {
   "cell_type": "code",
   "execution_count": 8,
   "metadata": {},
   "outputs": [
    {
     "name": "stdout",
     "output_type": "stream",
     "text": [
      "Number of edges: 171002\n",
      "Number of vertices: 22470\n"
     ]
    }
   ],
   "source": [
    "num_edges = graph.edges.count()\n",
    "num_vertices = graph.vertices.count()\n",
    "\n",
    "print(f\"Number of edges: {num_edges}\")\n",
    "print(f\"Number of vertices: {num_vertices}\")"
   ]
  },
  {
   "cell_type": "markdown",
   "metadata": {
    "collapsed": false,
    "jupyter": {
     "outputs_hidden": false
    }
   },
   "source": [
    "### 2\n",
    "Check that the graph is consistent. Are the two subgraphs formed for the page types governmental organisations and television shows also consistent? (1 p.)"
   ]
  },
  {
   "cell_type": "code",
   "execution_count": 9,
   "metadata": {},
   "outputs": [],
   "source": [
    "# create context checkpoint\n",
    "checkpoint_dir = \"./my_checkpoint\"\n",
    "os.makedirs(checkpoint_dir, exist_ok=True)\n",
    "spark.sparkContext.setCheckpointDir(checkpoint_dir)"
   ]
  },
  {
   "cell_type": "code",
   "execution_count": 10,
   "metadata": {
    "collapsed": false,
    "jupyter": {
     "outputs_hidden": false
    }
   },
   "outputs": [
    {
     "data": {
      "text/plain": [
       "True"
      ]
     },
     "execution_count": 10,
     "metadata": {},
     "output_type": "execute_result"
    }
   ],
   "source": [
    "is_connected = graph.connectedComponents().select(\"component\").distinct().count()\n",
    "is_connected == 1 # graph connectivity"
   ]
  },
  {
   "cell_type": "code",
   "execution_count": 11,
   "metadata": {},
   "outputs": [
    {
     "data": {
      "text/plain": [
       "False"
      ]
     },
     "execution_count": 11,
     "metadata": {},
     "output_type": "execute_result"
    }
   ],
   "source": [
    "g_gov = graph.filterVertices(\"page_type == 'government'\")\n",
    "is_connected_subgraphs_gov = g_gov.connectedComponents().select(\"component\").distinct().count()\n",
    "is_connected_subgraphs_gov == 1"
   ]
  },
  {
   "cell_type": "code",
   "execution_count": 12,
   "metadata": {},
   "outputs": [
    {
     "data": {
      "text/plain": [
       "False"
      ]
     },
     "execution_count": 12,
     "metadata": {},
     "output_type": "execute_result"
    }
   ],
   "source": [
    "g_tv = graph.filterVertices(\"page_type == 'tvshow'\")\n",
    "is_connected_subgraphs_tv = g_tv.connectedComponents().select('component').distinct().count()\n",
    "is_connected_subgraphs_tv == 1"
   ]
  },
  {
   "cell_type": "markdown",
   "metadata": {
    "collapsed": false,
    "jupyter": {
     "outputs_hidden": false
    }
   },
   "source": [
    "### 3\n",
    "Of the 1,000 pages with the highest PageRank, find 50 such pages (list page_name and page_type) that have the fewest connections and 50 with the most connections. Which page type was dominant in each of these categories? Draw a graph of the dependence of PageRank on the number of edges for vertices (scatter plot) (2 p.)"
   ]
  },
  {
   "cell_type": "code",
   "execution_count": 13,
   "metadata": {},
   "outputs": [
    {
     "data": {
      "text/plain": [
       "DataFrame[id: string, page_name: string, page_type: string, pagerank: double, outDegree: int]"
      ]
     },
     "metadata": {},
     "output_type": "display_data"
    }
   ],
   "source": [
    "results = graph.pageRank(resetProbability=0.15, tol=0.01)\n",
    "rankedVertexDegrees = results.vertices.join(graph.outDegrees, 'id')\n",
    "display(rankedVertexDegrees)"
   ]
  },
  {
   "cell_type": "code",
   "execution_count": 14,
   "metadata": {
    "collapsed": false,
    "jupyter": {
     "outputs_hidden": false
    }
   },
   "outputs": [],
   "source": [
    "top_1000 = rankedVertexDegrees.orderBy(\"pagerank\", ascending=False).limit(1000)\n",
    "top_50 = top_1000.orderBy(F.desc(\"outDegree\")).limit(50)\n",
    "bottom_50 = top_1000.orderBy(F.asc(\"outDegree\")).limit(50)"
   ]
  },
  {
   "cell_type": "code",
   "execution_count": 15,
   "metadata": {},
   "outputs": [
    {
     "name": "stdout",
     "output_type": "stream",
     "text": [
      "+-----+--------------------+----------+------------------+---------+\n",
      "|   id|           page_name| page_type|          pagerank|outDegree|\n",
      "+-----+--------------------+----------+------------------+---------+\n",
      "|21729|The Obama White H...|government|117.55736999319167|       16|\n",
      "|21781|           Microsoft|   company|55.797610617868585|        1|\n",
      "|22329|               NHTSA|government|46.512349673665334|        1|\n",
      "|20415|    Joachim Herrmann|politician|42.326554427294894|       39|\n",
      "|21955|             Digicel|   company|  35.9891242246724|        2|\n",
      "+-----+--------------------+----------+------------------+---------+\n",
      "only showing top 5 rows\n",
      "\n",
      "None\n",
      "+-----+--------------------+----------+------------------+---------+\n",
      "|   id|           page_name| page_type|          pagerank|outDegree|\n",
      "+-----+--------------------+----------+------------------+---------+\n",
      "| 8883|    U.S. Coast Guard|government|2.6707799488884216|      226|\n",
      "|14497|U.S. Army Chaplai...|government|16.067926524867612|      220|\n",
      "| 9319|           U.S. Navy|government| 2.718563683145659|      220|\n",
      "| 9294|  Troops to Teachers|government|2.5962665423497837|      202|\n",
      "|11003|        Barack Obama|politician|  8.28446338854838|      180|\n",
      "+-----+--------------------+----------+------------------+---------+\n",
      "only showing top 5 rows\n",
      "\n",
      "None\n",
      "+-----+--------------------+----------+------------------+---------+\n",
      "|   id|           page_name| page_type|          pagerank|outDegree|\n",
      "+-----+--------------------+----------+------------------+---------+\n",
      "|20188|            Rapipago|   company|18.686903108679328|        1|\n",
      "|22162|        Michel Temer|politician|15.117431316291325|        1|\n",
      "|19367|           Microsoft|   company|16.903212400597457|        1|\n",
      "|22329|               NHTSA|government|46.512349673665334|        1|\n",
      "|21838|U.S. Army Corps o...|government|16.106235375771206|        1|\n",
      "+-----+--------------------+----------+------------------+---------+\n",
      "only showing top 5 rows\n",
      "\n",
      "None\n"
     ]
    }
   ],
   "source": [
    "print(top_1000.show(5))\n",
    "print(top_50.show(5))\n",
    "print(bottom_50.show(5))"
   ]
  },
  {
   "cell_type": "code",
   "execution_count": 16,
   "metadata": {},
   "outputs": [
    {
     "data": {
      "image/png": "[encoded data removed]",
      "text/plain": [
       "<Figure size 640x480 with 1 Axes>"
      ]
     },
     "metadata": {},
     "output_type": "display_data"
    }
   ],
   "source": [
    "x_ranks_degree = rankedVertexDegrees.select(\"outDegree\").collect()\n",
    "y_ranks_degree = rankedVertexDegrees.select(\"pagerank\").collect()\n",
    "\n",
    "plt.scatter(x_ranks_degree, y_ranks_degree)\n",
    "plt.title(\"Plot of PageRank vs number of edges for vertices\")\n",
    "plt.xlabel('number of edges for vertices')\n",
    "plt.ylabel('PageRank')\n",
    "plt.show()"
   ]
  },
  {
   "cell_type": "markdown",
   "metadata": {
    "collapsed": false,
    "jupyter": {
     "outputs_hidden": false
    }
   },
   "source": [
    "### 4\n",
    "Using the Pregel API, implement the following algorithm. In the first step, a selected party publishes a fake news post. In the next step, this post is published by 1/4 of the randomly selected contacts of this page. In further steps, for each page that has already published this post, a randomly selected 1/4 of its contacts publish it. Show how the number of parties who have published the post changes as a function of the number of steps. (2 p.)\n",
    "Optional: Check the above relationship for a ratio other than 1/4."
   ]
  },
  {
   "cell_type": "code",
   "execution_count": null,
   "metadata": {
    "ExecuteTime": {
     "end_time": "2023-11-23T21:58:29.005181Z",
     "start_time": "2023-11-23T21:58:29.002865Z"
    },
    "collapsed": false,
    "jupyter": {
     "outputs_hidden": false
    }
   },
   "outputs": [],
   "source": []
  },
  {
   "cell_type": "markdown",
   "metadata": {
    "collapsed": false,
    "jupyter": {
     "outputs_hidden": false
    }
   },
   "source": [
    "### 5\n",
    "Draw a graph of the degree distribution of vertices in the graph on a logarithmic scale. You can use the stat.approxQuantile method. Is the network scale-free? https://barabasi.com/f/623.pdf (2 p.)"
   ]
  },
  {
   "cell_type": "code",
   "execution_count": 17,
   "metadata": {
    "collapsed": false,
    "jupyter": {
     "outputs_hidden": false
    }
   },
   "outputs": [
    {
     "data": {
      "image/png": "[encoded data removed]",
      "text/plain": [
       "<Figure size 640x480 with 1 Axes>"
      ]
     },
     "metadata": {},
     "output_type": "display_data"
    }
   ],
   "source": [
    "degrees = graph.outDegrees.select(\"outDegree\").rdd.flatMap(lambda x: x).collect()\n",
    "\n",
    "plt.hist(degrees, 20, log=True, edgecolor='black', alpha=0.7)\n",
    "plt.xlabel('Degree')\n",
    "plt.ylabel('Frequency')\n",
    "plt.title('Distribution of the degree of vertices in log scale')\n",
    "plt.show()"
   ]
  },
  {
   "cell_type": "code",
   "execution_count": 18,
   "metadata": {},
   "outputs": [
    {
     "data": {
      "image/png": "[encoded data removed]",
      "text/plain": [
       "<Figure size 640x480 with 1 Axes>"
      ]
     },
     "metadata": {},
     "output_type": "display_data"
    }
   ],
   "source": [
    "degrees = graph.outDegrees.select(\"outDegree\").rdd.flatMap(lambda x: x).collect()\n",
    "\n",
    "plt.hist(degrees, 20, edgecolor='black', alpha=0.7)\n",
    "plt.xlabel('Degree')\n",
    "plt.ylabel('Frequency')\n",
    "plt.title('Distribution of the degree of vertices in normal scale')\n",
    "plt.show()"
   ]
  }
 ],
 "metadata": {
  "kernelspec": {
   "display_name": "Python 3 (ipykernel)",
   "language": "python",
   "name": "python3"
  },
  "language_info": {
   "codemirror_mode": {
    "name": "ipython",
    "version": 3
   },
   "file_extension": ".py",
   "mimetype": "text/x-python",
   "name": "python",
   "nbconvert_exporter": "python",
   "pygments_lexer": "ipython3",
   "version": "3.11.6"
  }
 },
 "nbformat": 4,
 "nbformat_minor": 4
}
